{
 "cells": [
  {
   "cell_type": "code",
   "execution_count": 62,
   "id": "eb3548cf-eeb0-4782-85df-e9f61c4d2f2f",
   "metadata": {},
   "outputs": [],
   "source": [
    "import numpy as np\n",
    "import pandas as pd\n"
   ]
  },
  {
   "cell_type": "code",
   "execution_count": 63,
   "id": "0e5d8b14-d9a8-4002-b3f9-d6aad44c39a8",
   "metadata": {},
   "outputs": [],
   "source": [
    "place =pd.read_csv('Top Indian Places to Visit.csv')"
   ]
  },
  {
   "cell_type": "code",
   "execution_count": 16,
   "id": "2ea5d9bb-b23e-4920-89d6-d07ab22c670e",
   "metadata": {},
   "outputs": [
    {
     "data": {
      "text/html": [
       "<div>\n",
       "<style scoped>\n",
       "    .dataframe tbody tr th:only-of-type {\n",
       "        vertical-align: middle;\n",
       "    }\n",
       "\n",
       "    .dataframe tbody tr th {\n",
       "        vertical-align: top;\n",
       "    }\n",
       "\n",
       "    .dataframe thead th {\n",
       "        text-align: right;\n",
       "    }\n",
       "</style>\n",
       "<table border=\"1\" class=\"dataframe\">\n",
       "  <thead>\n",
       "    <tr style=\"text-align: right;\">\n",
       "      <th></th>\n",
       "      <th>Unnamed: 0</th>\n",
       "      <th>Zone</th>\n",
       "      <th>State</th>\n",
       "      <th>City</th>\n",
       "      <th>Name</th>\n",
       "      <th>Type</th>\n",
       "      <th>Establishment Year</th>\n",
       "      <th>time needed to visit in hrs</th>\n",
       "      <th>Google review rating</th>\n",
       "      <th>Entrance Fee in INR</th>\n",
       "      <th>Airport with 50km Radius</th>\n",
       "      <th>Weekly Off</th>\n",
       "      <th>Significance</th>\n",
       "      <th>DSLR Allowed</th>\n",
       "      <th>Number of google review in lakhs</th>\n",
       "      <th>Best Time to visit</th>\n",
       "    </tr>\n",
       "  </thead>\n",
       "  <tbody>\n",
       "    <tr>\n",
       "      <th>0</th>\n",
       "      <td>0</td>\n",
       "      <td>Northern</td>\n",
       "      <td>Delhi</td>\n",
       "      <td>Delhi</td>\n",
       "      <td>India Gate</td>\n",
       "      <td>War Memorial</td>\n",
       "      <td>1921</td>\n",
       "      <td>0.5</td>\n",
       "      <td>4.6</td>\n",
       "      <td>0</td>\n",
       "      <td>Yes</td>\n",
       "      <td>NaN</td>\n",
       "      <td>Historical</td>\n",
       "      <td>Yes</td>\n",
       "      <td>2.6</td>\n",
       "      <td>Evening</td>\n",
       "    </tr>\n",
       "    <tr>\n",
       "      <th>1</th>\n",
       "      <td>1</td>\n",
       "      <td>Northern</td>\n",
       "      <td>Delhi</td>\n",
       "      <td>Delhi</td>\n",
       "      <td>Humayun's Tomb</td>\n",
       "      <td>Tomb</td>\n",
       "      <td>1572</td>\n",
       "      <td>2.0</td>\n",
       "      <td>4.5</td>\n",
       "      <td>30</td>\n",
       "      <td>Yes</td>\n",
       "      <td>NaN</td>\n",
       "      <td>Historical</td>\n",
       "      <td>Yes</td>\n",
       "      <td>0.4</td>\n",
       "      <td>Afternoon</td>\n",
       "    </tr>\n",
       "  </tbody>\n",
       "</table>\n",
       "</div>"
      ],
      "text/plain": [
       "   Unnamed: 0      Zone  State   City            Name          Type  \\\n",
       "0           0  Northern  Delhi  Delhi      India Gate  War Memorial   \n",
       "1           1  Northern  Delhi  Delhi  Humayun's Tomb          Tomb   \n",
       "\n",
       "  Establishment Year  time needed to visit in hrs  Google review rating  \\\n",
       "0               1921                          0.5                   4.6   \n",
       "1               1572                          2.0                   4.5   \n",
       "\n",
       "   Entrance Fee in INR Airport with 50km Radius Weekly Off Significance  \\\n",
       "0                    0                      Yes        NaN   Historical   \n",
       "1                   30                      Yes        NaN   Historical   \n",
       "\n",
       "  DSLR Allowed  Number of google review in lakhs Best Time to visit  \n",
       "0          Yes                               2.6            Evening  \n",
       "1          Yes                               0.4          Afternoon  "
      ]
     },
     "execution_count": 16,
     "metadata": {},
     "output_type": "execute_result"
    }
   ],
   "source": [
    "trip.head(2)"
   ]
  },
  {
   "cell_type": "code",
   "execution_count": 17,
   "id": "27a4ab4e-2839-452b-922e-62a7fcb7410d",
   "metadata": {},
   "outputs": [
    {
     "data": {
      "text/plain": [
       "(325, 16)"
      ]
     },
     "execution_count": 17,
     "metadata": {},
     "output_type": "execute_result"
    }
   ],
   "source": [
    "trip.shape"
   ]
  },
  {
   "cell_type": "code",
   "execution_count": 64,
   "id": "e7f33153-5ab9-4b0f-9389-6417c53d11d5",
   "metadata": {},
   "outputs": [],
   "source": [
    "place=place[['Zone','State','City','Name','Type','Significance','DSLR Allowed']]"
   ]
  },
  {
   "cell_type": "code",
   "execution_count": 67,
   "id": "dfc9c8f3-bc2a-402c-b94e-e2a75885ec36",
   "metadata": {},
   "outputs": [
    {
     "data": {
      "text/plain": [
       "(325, 7)"
      ]
     },
     "execution_count": 67,
     "metadata": {},
     "output_type": "execute_result"
    }
   ],
   "source": [
    "place.shape"
   ]
  },
  {
   "cell_type": "code",
   "execution_count": 34,
   "id": "8014769e-81eb-443b-8ef7-0244eeff9809",
   "metadata": {},
   "outputs": [
    {
     "data": {
      "text/html": [
       "<div>\n",
       "<style scoped>\n",
       "    .dataframe tbody tr th:only-of-type {\n",
       "        vertical-align: middle;\n",
       "    }\n",
       "\n",
       "    .dataframe tbody tr th {\n",
       "        vertical-align: top;\n",
       "    }\n",
       "\n",
       "    .dataframe thead th {\n",
       "        text-align: right;\n",
       "    }\n",
       "</style>\n",
       "<table border=\"1\" class=\"dataframe\">\n",
       "  <thead>\n",
       "    <tr style=\"text-align: right;\">\n",
       "      <th></th>\n",
       "      <th>Zone</th>\n",
       "      <th>State</th>\n",
       "      <th>City</th>\n",
       "      <th>Name</th>\n",
       "      <th>Type</th>\n",
       "      <th>Significance</th>\n",
       "      <th>DSLR Allowed</th>\n",
       "    </tr>\n",
       "  </thead>\n",
       "  <tbody>\n",
       "    <tr>\n",
       "      <th>0</th>\n",
       "      <td>Northern</td>\n",
       "      <td>Delhi</td>\n",
       "      <td>Delhi</td>\n",
       "      <td>India Gate</td>\n",
       "      <td>War Memorial</td>\n",
       "      <td>Historical</td>\n",
       "      <td>Yes</td>\n",
       "    </tr>\n",
       "    <tr>\n",
       "      <th>1</th>\n",
       "      <td>Northern</td>\n",
       "      <td>Delhi</td>\n",
       "      <td>Delhi</td>\n",
       "      <td>Humayun's Tomb</td>\n",
       "      <td>Tomb</td>\n",
       "      <td>Historical</td>\n",
       "      <td>Yes</td>\n",
       "    </tr>\n",
       "  </tbody>\n",
       "</table>\n",
       "</div>"
      ],
      "text/plain": [
       "       Zone  State   City            Name          Type Significance  \\\n",
       "0  Northern  Delhi  Delhi      India Gate  War Memorial   Historical   \n",
       "1  Northern  Delhi  Delhi  Humayun's Tomb          Tomb   Historical   \n",
       "\n",
       "  DSLR Allowed  \n",
       "0          Yes  \n",
       "1          Yes  "
      ]
     },
     "execution_count": 34,
     "metadata": {},
     "output_type": "execute_result"
    }
   ],
   "source": [
    "trip.head(2)"
   ]
  },
  {
   "cell_type": "code",
   "execution_count": 68,
   "id": "8139131a-b6cc-4022-87be-fea00937c0d9",
   "metadata": {},
   "outputs": [],
   "source": [
    "place.dropna(inplace=True)"
   ]
  },
  {
   "cell_type": "code",
   "execution_count": 23,
   "id": "3e1008a8-d457-4a70-966e-9cfe68b13e6e",
   "metadata": {},
   "outputs": [
    {
     "data": {
      "text/plain": [
       "(325, 7)"
      ]
     },
     "execution_count": 23,
     "metadata": {},
     "output_type": "execute_result"
    }
   ],
   "source": [
    "trip.shape"
   ]
  },
  {
   "cell_type": "code",
   "execution_count": 24,
   "id": "5c10175e-1f95-48b3-80ef-2f0c321a812f",
   "metadata": {},
   "outputs": [],
   "source": []
  },
  {
   "cell_type": "code",
   "execution_count": 69,
   "id": "e5de3527-daf0-48ab-9a1a-cef31159a6d1",
   "metadata": {},
   "outputs": [],
   "source": [
    "place['Type']=place['Type'].str.replace(' ','',regex=False)"
   ]
  },
  {
   "cell_type": "code",
   "execution_count": 73,
   "id": "c66c748a-ccb4-4113-8e81-9154b8c136de",
   "metadata": {},
   "outputs": [
    {
     "data": {
      "text/html": [
       "<div>\n",
       "<style scoped>\n",
       "    .dataframe tbody tr th:only-of-type {\n",
       "        vertical-align: middle;\n",
       "    }\n",
       "\n",
       "    .dataframe tbody tr th {\n",
       "        vertical-align: top;\n",
       "    }\n",
       "\n",
       "    .dataframe thead th {\n",
       "        text-align: right;\n",
       "    }\n",
       "</style>\n",
       "<table border=\"1\" class=\"dataframe\">\n",
       "  <thead>\n",
       "    <tr style=\"text-align: right;\">\n",
       "      <th></th>\n",
       "      <th>Zone</th>\n",
       "      <th>State</th>\n",
       "      <th>City</th>\n",
       "      <th>Name</th>\n",
       "      <th>Type</th>\n",
       "      <th>Significance</th>\n",
       "      <th>DSLR Allowed</th>\n",
       "    </tr>\n",
       "  </thead>\n",
       "  <tbody>\n",
       "    <tr>\n",
       "      <th>0</th>\n",
       "      <td>Northern</td>\n",
       "      <td>Delhi</td>\n",
       "      <td>Delhi</td>\n",
       "      <td>India Gate</td>\n",
       "      <td>WarMemorial</td>\n",
       "      <td>Historical</td>\n",
       "      <td>Yes</td>\n",
       "    </tr>\n",
       "    <tr>\n",
       "      <th>1</th>\n",
       "      <td>Northern</td>\n",
       "      <td>Delhi</td>\n",
       "      <td>Delhi</td>\n",
       "      <td>Humayun's Tomb</td>\n",
       "      <td>Tomb</td>\n",
       "      <td>Historical</td>\n",
       "      <td>Yes</td>\n",
       "    </tr>\n",
       "  </tbody>\n",
       "</table>\n",
       "</div>"
      ],
      "text/plain": [
       "       Zone  State   City            Name         Type Significance  \\\n",
       "0  Northern  Delhi  Delhi      India Gate  WarMemorial   Historical   \n",
       "1  Northern  Delhi  Delhi  Humayun's Tomb         Tomb   Historical   \n",
       "\n",
       "  DSLR Allowed  \n",
       "0          Yes  \n",
       "1          Yes  "
      ]
     },
     "execution_count": 73,
     "metadata": {},
     "output_type": "execute_result"
    }
   ],
   "source": [
    "place.head(2)"
   ]
  },
  {
   "cell_type": "code",
   "execution_count": 74,
   "id": "b49b9c3b-cbf4-4856-b5ce-a50a009df1f8",
   "metadata": {},
   "outputs": [],
   "source": [
    "place['tags']=place['Zone']+' '+place['State']+' '+place['City']+' '+place['Type']+' '+place['Significance']+' '+place['DSLR Allowed']"
   ]
  },
  {
   "cell_type": "code",
   "execution_count": 75,
   "id": "5314e0ac-f5ae-4887-8663-fce59127d098",
   "metadata": {},
   "outputs": [
    {
     "data": {
      "text/html": [
       "<div>\n",
       "<style scoped>\n",
       "    .dataframe tbody tr th:only-of-type {\n",
       "        vertical-align: middle;\n",
       "    }\n",
       "\n",
       "    .dataframe tbody tr th {\n",
       "        vertical-align: top;\n",
       "    }\n",
       "\n",
       "    .dataframe thead th {\n",
       "        text-align: right;\n",
       "    }\n",
       "</style>\n",
       "<table border=\"1\" class=\"dataframe\">\n",
       "  <thead>\n",
       "    <tr style=\"text-align: right;\">\n",
       "      <th></th>\n",
       "      <th>Zone</th>\n",
       "      <th>State</th>\n",
       "      <th>City</th>\n",
       "      <th>Name</th>\n",
       "      <th>Type</th>\n",
       "      <th>Significance</th>\n",
       "      <th>DSLR Allowed</th>\n",
       "      <th>tags</th>\n",
       "    </tr>\n",
       "  </thead>\n",
       "  <tbody>\n",
       "    <tr>\n",
       "      <th>0</th>\n",
       "      <td>Northern</td>\n",
       "      <td>Delhi</td>\n",
       "      <td>Delhi</td>\n",
       "      <td>India Gate</td>\n",
       "      <td>WarMemorial</td>\n",
       "      <td>Historical</td>\n",
       "      <td>Yes</td>\n",
       "      <td>Northern Delhi Delhi WarMemorial Historical Yes</td>\n",
       "    </tr>\n",
       "    <tr>\n",
       "      <th>1</th>\n",
       "      <td>Northern</td>\n",
       "      <td>Delhi</td>\n",
       "      <td>Delhi</td>\n",
       "      <td>Humayun's Tomb</td>\n",
       "      <td>Tomb</td>\n",
       "      <td>Historical</td>\n",
       "      <td>Yes</td>\n",
       "      <td>Northern Delhi Delhi Tomb Historical Yes</td>\n",
       "    </tr>\n",
       "  </tbody>\n",
       "</table>\n",
       "</div>"
      ],
      "text/plain": [
       "       Zone  State   City            Name         Type Significance  \\\n",
       "0  Northern  Delhi  Delhi      India Gate  WarMemorial   Historical   \n",
       "1  Northern  Delhi  Delhi  Humayun's Tomb         Tomb   Historical   \n",
       "\n",
       "  DSLR Allowed                                             tags  \n",
       "0          Yes  Northern Delhi Delhi WarMemorial Historical Yes  \n",
       "1          Yes         Northern Delhi Delhi Tomb Historical Yes  "
      ]
     },
     "execution_count": 75,
     "metadata": {},
     "output_type": "execute_result"
    }
   ],
   "source": [
    "place.head(2)"
   ]
  },
  {
   "cell_type": "code",
   "execution_count": 76,
   "id": "4e1ba0a5-c6eb-4ff3-93ab-d90e0cb71812",
   "metadata": {},
   "outputs": [],
   "source": [
    "new = trip.drop(columns=['Zone','State','City','Type','Significance','DSLR Allowed'])"
   ]
  },
  {
   "cell_type": "code",
   "execution_count": 77,
   "id": "1c9517b3-2e68-420f-aa30-a7eeeb14b0dd",
   "metadata": {},
   "outputs": [
    {
     "data": {
      "text/html": [
       "<div>\n",
       "<style scoped>\n",
       "    .dataframe tbody tr th:only-of-type {\n",
       "        vertical-align: middle;\n",
       "    }\n",
       "\n",
       "    .dataframe tbody tr th {\n",
       "        vertical-align: top;\n",
       "    }\n",
       "\n",
       "    .dataframe thead th {\n",
       "        text-align: right;\n",
       "    }\n",
       "</style>\n",
       "<table border=\"1\" class=\"dataframe\">\n",
       "  <thead>\n",
       "    <tr style=\"text-align: right;\">\n",
       "      <th></th>\n",
       "      <th>Name</th>\n",
       "      <th>tags</th>\n",
       "    </tr>\n",
       "  </thead>\n",
       "  <tbody>\n",
       "    <tr>\n",
       "      <th>0</th>\n",
       "      <td>India Gate</td>\n",
       "      <td>Northern Delhi Delhi WarMemorial Historical Yes</td>\n",
       "    </tr>\n",
       "    <tr>\n",
       "      <th>1</th>\n",
       "      <td>Humayun's Tomb</td>\n",
       "      <td>Northern Delhi Delhi Tomb Historical Yes</td>\n",
       "    </tr>\n",
       "  </tbody>\n",
       "</table>\n",
       "</div>"
      ],
      "text/plain": [
       "             Name                                             tags\n",
       "0      India Gate  Northern Delhi Delhi WarMemorial Historical Yes\n",
       "1  Humayun's Tomb         Northern Delhi Delhi Tomb Historical Yes"
      ]
     },
     "execution_count": 77,
     "metadata": {},
     "output_type": "execute_result"
    }
   ],
   "source": [
    "new.head(2)"
   ]
  },
  {
   "cell_type": "code",
   "execution_count": 78,
   "id": "2992a763-4009-41c3-b49c-9336d2337357",
   "metadata": {},
   "outputs": [],
   "source": [
    "from sklearn.feature_extraction.text import CountVectorizer\n",
    "cv = CountVectorizer(max_features=5000,stop_words='english')"
   ]
  },
  {
   "cell_type": "code",
   "execution_count": 79,
   "id": "8c0b44b4-b287-44fa-b4f8-86e94810fd69",
   "metadata": {},
   "outputs": [],
   "source": [
    "vector = cv.fit_transform(new['tags']).toarray()"
   ]
  },
  {
   "cell_type": "code",
   "execution_count": 80,
   "id": "3771cc9e-26b6-4e6c-a848-5193c70e46d9",
   "metadata": {},
   "outputs": [
    {
     "data": {
      "text/plain": [
       "0"
      ]
     },
     "execution_count": 80,
     "metadata": {},
     "output_type": "execute_result"
    }
   ],
   "source": [
    "from sklearn.metrics.pairwise import cosine_similarity\n",
    "similarity = cosine_similarity(vector)\n",
    "similarity\n",
    "new[new['Name'] == 'India Gate'].index[0]"
   ]
  },
  {
   "cell_type": "code",
   "execution_count": 81,
   "id": "2c83ed03-fbce-4e20-be6a-671583039761",
   "metadata": {},
   "outputs": [],
   "source": [
    "def recommend(place):\n",
    "    index = new[new['Name'] == place].index[0]\n",
    "    distances = sorted(list(enumerate(similarity[index])),reverse=True,key = lambda x: x[1])\n",
    "    for i in distances[1:6]:\n",
    "        print(new.iloc[i[0]].Name)\n",
    "        "
   ]
  },
  {
   "cell_type": "code",
   "execution_count": 82,
   "id": "13c82530-5b36-4f9e-bdaa-f753f817ae37",
   "metadata": {},
   "outputs": [
    {
     "name": "stdout",
     "output_type": "stream",
     "text": [
      "Humayun's Tomb\n",
      "Red Fort\n",
      "Agrasen ki Baoli\n",
      "Qutub Minar\n",
      "Jama Masjid\n"
     ]
    }
   ],
   "source": [
    "recommend('India Gate')"
   ]
  },
  {
   "cell_type": "code",
   "execution_count": 84,
   "id": "6a96ddb0-2a21-4f90-b58a-881c60d77a71",
   "metadata": {},
   "outputs": [],
   "source": [
    "import pickle\n",
    "pickle.dump(new,open('place_list.pkl','wb'))\n",
    "pickle.dump(similarity,open('similarity.pkl','wb'))"
   ]
  },
  {
   "cell_type": "code",
   "execution_count": null,
   "id": "8cf1e592-b984-4e1a-b603-be6ea6230749",
   "metadata": {},
   "outputs": [],
   "source": []
  }
 ],
 "metadata": {
  "kernelspec": {
   "display_name": "Python 3 (ipykernel)",
   "language": "python",
   "name": "python3"
  },
  "language_info": {
   "codemirror_mode": {
    "name": "ipython",
    "version": 3
   },
   "file_extension": ".py",
   "mimetype": "text/x-python",
   "name": "python",
   "nbconvert_exporter": "python",
   "pygments_lexer": "ipython3",
   "version": "3.11.7"
  }
 },
 "nbformat": 4,
 "nbformat_minor": 5
}
